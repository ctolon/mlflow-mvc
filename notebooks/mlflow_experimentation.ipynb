{
 "cells": [
  {
   "cell_type": "markdown",
   "metadata": {},
   "source": [
    "### mlflow-mvc nedir?\n",
    "mlflow-mvc, mlflow frameworkünün wrap edilerek `MVC` patterni uygulanmış halidir. Temelde Mlflow'un yapabildiği her fonksiyonaliteye sahiptir. Mlflow'un temel fonksiyonları kullanılarak geliştirilmiştir. Mlflow'un bazı ihtiyaçlara direkt olarak cevap verememesinden dolayı ve dosya yapısının çok karmaşık olmasıdan dolayı geliştirilmiştir. mlflow-mvc standardize bir şekilde geliştirilmiş bir frameworktür. Bu Framework'ün özellikleri:\n",
    "\n",
    "* Tamamıyla esnektir.\n",
    "* geliştirmelere sonuna kadar açıktır. Kendi business logic'inizi service katmanında uygulayabilir. Controller katmanında yönetebilirsiniz.\n",
    "* Dependency injection patterni ile standard hala getirilmiş, bağımlılıklar en aza indirilmiştir.\n",
    "* Python dinamik bir dil olmasına karşın mlflow-mvc'nin ana komponentleri kısmen opsiyonal olarak type-safety sağlayabilmektedir."
   ]
  },
  {
   "cell_type": "markdown",
   "metadata": {},
   "source": [
    "### Başlamadan Önce bilinmesi gerekenler\n",
    "mlflow-mvc aslında mlflow framework'ünde temel olan 4 Entity baz alınarak geliştirilmiştir. Bu entityler:\n",
    "\n",
    "* `Run`\n",
    "* `Experiment`\n",
    "* `RunVersion`\n",
    "* `RegisteredRuns`\n",
    "\n",
    "olarak belirlenmiştir.\n",
    "\n",
    "Mlflow tamamıyla RDMS olarak 4 Entity üzerine kurulmuştur. Dolayısıyla framework geliştirilirken bu 4 entity baz alınarak `MVC` katmanları oluşturulmuştur. Burada dikkat edilmesi gereken nokta, Run Entity'si aslında `Data` ve `Info` olmak üzere 2 Entity'nin birleşimi olarak ele alınabilir (daha fazla ayrıntı için mlflow dökümantasyonlarına bakabilirsiniz). Single Responsibility prensibi gereği `Run` entitysi 2 ayrı entity'e bölünmüştür.\n",
    "\n",
    "mlflow-mvc geliştirilirken `spring-boot`'tan etkilenmiştir. `spring-boot` enterprise mimariyi çok iyi yansıtmaktadır. Dolayısıyla dosya yapısı ve mimarisel olarak yüksek düzeyde benzerlikler mevcuttur.\n",
    "\n",
    "mlflow-mvc geliştirilirken ayrıca yararlanılan 2 temel yardımcı framework vardı\n",
    "\n",
    "`dependency-injector`: Dependency Injection Design Patternini uygulamak için IoC (Inversion of Controller) Container oluşturmak için tasarlanmış, Cython ile yazılmış mikro bir frameworktür.\n",
    "\n",
    "`interface`: Python'a Java, c# gibi dillerde mevcut olan interface sınıfını implemente etmeyi sağlar."
   ]
  },
  {
   "cell_type": "markdown",
   "metadata": {},
   "source": [
    "### Kütüphanelerin Import Edilmesi\n",
    "mlflow_mvc adından da anlaşılacağı üzere MVC pattern üzerine inşa edilmiştir. Katmanlar sırasıyla: `Entity Layer` --> `Data Access Layer` (Repository) --> `Service Layer` (Business Logic) --> `Controller Layer`\n",
    "\n",
    "Bir uygulamada gerekli olabilecek mlflow-mvc paketindeki tüm kütüphaneler aşağıdaki şekilde import edilebilir (pip paketi kurulduktan sonra, ayrıca logger setup .py scriptleri için gerekli değildir, tüm service layer'larına entegre edilmiştir):"
   ]
  },
  {
   "cell_type": "code",
   "execution_count": 5,
   "metadata": {},
   "outputs": [
    {
     "name": "stderr",
     "output_type": "stream",
     "text": [
      "[24-02-23, 18:00:25] {1309505168.py - L#35} [INFO] - execution start..\n"
     ]
    }
   ],
   "source": [
    "import mlflow\n",
    "import pandas as pd\n",
    "\n",
    "\n",
    "# Entity Layer\n",
    "from mlflow_mvc.entities.experiment_entity import ExperimentEntity\n",
    "from mlflow_mvc.entities.model_version_entity import ModelVersion\n",
    "from mlflow_mvc.entities._registered_model_entity import RegisteredModelEntity\n",
    "from mlflow_mvc.entities._run_info_entity import RunInfoEntity\n",
    "from mlflow_mvc.entities._run_data_entity import RunDataEntity\n",
    "\n",
    "# Data Access Layer\n",
    "from mlflow_mvc.repository._experiment_repository import ExperimentRepository\n",
    "from mlflow_mvc.repository._model_version_repository import ModelVersionRepository\n",
    "from mlflow_mvc.repository._registered_model_repository import RegisteredModelRepository\n",
    "from mlflow_mvc.repository._run_repository import RunRepository\n",
    "\n",
    "# Service Layer\n",
    "from mlflow_mvc.service._experiment_service import ExperimentService\n",
    "from mlflow_mvc.service._model_version_service import ModelVersionService\n",
    "from mlflow_mvc.service._registered_model_service import RegisteredModelService\n",
    "from mlflow_mvc.service._run_service import RunService\n",
    "\n",
    "# Controller Layer\n",
    "from mlflow_mvc.controller._experiment_controller import ExperimentController\n",
    "from mlflow_mvc.controller._model_version_controller import ModelVersionController\n",
    "from mlflow_mvc.controller._registered_model_controller import RegisteredModelController\n",
    "from mlflow_mvc.controller._run_controller import RunController\n",
    "\n",
    "# Global Configs\n",
    "from mlflow_mvc.config._core import Config, ApiPath\n",
    "from mlflow_mvc.util.master_logger import MasterLogger\n",
    "\n",
    "# Logger Settings\n",
    "logger = MasterLogger().get_logger\n",
    "logger.info(\"execution start..\")"
   ]
  },
  {
   "cell_type": "markdown",
   "metadata": {},
   "source": [
    "#### Section1: mlflow-mvc Manual Dependency Injection without IoC (Inversion of Control) Container\n",
    "Bu kısımda logger ayarları ve MLFlow'un experimentation için layerların instanceları yapılır. mlflow-mvc paketi geliştirilirken Dependency injection design patternı uygulandığı için her bir service'in bağımlılıklarını ayrı ayrı instance içinde belirtmek best practice değildir. Yine de Methodoloji olarak uygulanabilir."
   ]
  },
  {
   "cell_type": "markdown",
   "metadata": {},
   "source": [
    "#### Repository Instance (Data Access Layer)"
   ]
  },
  {
   "cell_type": "code",
   "execution_count": 2,
   "metadata": {},
   "outputs": [],
   "source": [
    "TRACKING_SERVER_URI = \"http://0.0.0.0:5000\"\n",
    "\n",
    "experiment_repo = ExperimentRepository(tracking_server_url=TRACKING_SERVER_URI)\n",
    "model_version_repo = ModelVersionRepository(tracking_server_url=TRACKING_SERVER_URI)\n",
    "registered_models_repo = RegisteredModelRepository(tracking_server_url=TRACKING_SERVER_URI)\n",
    "run_repo = RunRepository(tracking_server_url=TRACKING_SERVER_URI)"
   ]
  },
  {
   "cell_type": "markdown",
   "metadata": {},
   "source": [
    "#### Service Instance (Business Logic)"
   ]
  },
  {
   "cell_type": "code",
   "execution_count": 3,
   "metadata": {},
   "outputs": [],
   "source": [
    "experiment_service = ExperimentService(experiment_repository=experiment_repo)\n",
    "model_version_service = ModelVersionService(\n",
    "    run_repository=run_repo,\n",
    "    model_version_repository=model_version_repo\n",
    "    )\n",
    "registered_model_service = RegisteredModelService(registered_models_repository=registered_models_repo)\n",
    "run_service = RunService(\n",
    "    experiment_repository=experiment_repo,\n",
    "    run_repository=run_repo\n",
    ")"
   ]
  },
  {
   "cell_type": "markdown",
   "metadata": {},
   "source": [
    "#### Controller Instance"
   ]
  },
  {
   "cell_type": "code",
   "execution_count": 4,
   "metadata": {},
   "outputs": [],
   "source": [
    "experiment_controller = ExperimentController(experiment_service=experiment_service)\n",
    "model_version_controller = ModelVersionController(model_version_service=model_version_service)\n",
    "registered_models_controller = RegisteredModelController(registered_model_service=registered_model_service)\n",
    "run_controller = RunController(run_service=run_service)"
   ]
  },
  {
   "cell_type": "markdown",
   "metadata": {},
   "source": [
    "Şimdi Controller katmanımızı da instance ettiğimize göre controller katmanını kullanarak bazı örnekler yapalım:"
   ]
  },
  {
   "cell_type": "markdown",
   "metadata": {},
   "source": [
    "**Seçilen Metriğe Göre Kaydedilen Son Runin Validasyonu**: Mlflow'a kaydedilen son model için bir validasyon yapalım. Son kaydedilen model dediğimiz için aslında ilgilendiğimiz entity temelde model versiyonudur. Bu yüzden bunun business logic'i `RunVersionController` sınıfı içindedir:"
   ]
  },
  {
   "cell_type": "code",
   "execution_count": 5,
   "metadata": {},
   "outputs": [
    {
     "name": "stderr",
     "output_type": "stream",
     "text": [
      "[23-02-23, 15:12:13] {_model_version_service.py - L#93} [INFO] - _model_version_service.py execution start..\n",
      "[23-02-23, 15:12:13] {_model_version_service.py - L#99} [INFO] - Registered Model Name: skbc\n",
      "[23-02-23, 15:12:13] {_model_version_service.py - L#100} [INFO] - Registered Model Description: Edit Model Desc\n",
      "[23-02-23, 15:12:13] {_model_version_service.py - L#101} [INFO] - Registered Model Run id: 2fc1141d586e41f1ace034398ca99942\n",
      "[23-02-23, 15:12:13] {_model_version_service.py - L#102} [INFO] - Registered Model Creation Timestamp: 1676551985112\n",
      "[23-02-23, 15:12:13] {_model_version_service.py - L#103} [INFO] - Registered Model Version: 3\n",
      "[23-02-23, 15:12:13] {_model_version_service.py - L#104} [INFO] - Registered Model Tags: {'model.tag': 'test', 'model.tag2': 'test2'}\n",
      "[23-02-23, 15:12:13] {_model_version_service.py - L#105} [INFO] - Registered Model Stage: None\n",
      "[23-02-23, 15:12:13] {_model_version_service.py - L#113} [INFO] - Metric for latest run --> epoch : 800.0\n",
      "[23-02-23, 15:12:13] {_model_version_service.py - L#120} [INFO] - Model Validation Successful\n",
      "[23-02-23, 15:12:13] {_model_version_service.py - L#121} [INFO] - Execution finished\n"
     ]
    },
    {
     "data": {
      "text/plain": [
       "True"
      ]
     },
     "execution_count": 5,
     "metadata": {},
     "output_type": "execute_result"
    }
   ],
   "source": [
    "model_version_controller.latest_model_validator(\n",
    "    model_name=\"skbc\",\n",
    "    criteria=\"700\",\n",
    "    selected_metric=\"epoch\")"
   ]
  },
  {
   "cell_type": "code",
   "execution_count": 6,
   "metadata": {},
   "outputs": [
    {
     "name": "stderr",
     "output_type": "stream",
     "text": [
      "[23-02-23, 15:12:16] {_model_version_service.py - L#93} [INFO] - _model_version_service.py execution start..\n",
      "[23-02-23, 15:12:16] {_model_version_service.py - L#99} [INFO] - Registered Model Name: skbc\n",
      "[23-02-23, 15:12:16] {_model_version_service.py - L#100} [INFO] - Registered Model Description: Edit Model Desc\n",
      "[23-02-23, 15:12:16] {_model_version_service.py - L#101} [INFO] - Registered Model Run id: 2fc1141d586e41f1ace034398ca99942\n",
      "[23-02-23, 15:12:16] {_model_version_service.py - L#102} [INFO] - Registered Model Creation Timestamp: 1676551985112\n",
      "[23-02-23, 15:12:16] {_model_version_service.py - L#103} [INFO] - Registered Model Version: 3\n",
      "[23-02-23, 15:12:16] {_model_version_service.py - L#104} [INFO] - Registered Model Tags: {'model.tag': 'test', 'model.tag2': 'test2'}\n",
      "[23-02-23, 15:12:16] {_model_version_service.py - L#105} [INFO] - Registered Model Stage: None\n",
      "[23-02-23, 15:12:16] {_model_version_service.py - L#113} [INFO] - Metric for latest run --> epoch : 800.0\n",
      "[23-02-23, 15:12:16] {_model_version_service.py - L#120} [INFO] - Model Validation Successful\n",
      "[23-02-23, 15:12:16] {_model_version_service.py - L#121} [INFO] - Execution finished\n"
     ]
    }
   ],
   "source": [
    "from mlflow_mvc.containers._controller_container import ControllersContainer\n",
    "container = ControllersContainer()\n",
    "check = container.model_version_controller().latest_model_validator(\n",
    "    model_name=\"skbc\",\n",
    "    criteria=\"700\",\n",
    "    selected_metric=\"epoch\"\n",
    ")"
   ]
  },
  {
   "cell_type": "markdown",
   "metadata": {},
   "source": [
    "**Mlflow'a kaydedilen son modeli indirmek**: Mlflow'a kaydedilen son modeli indirmek için yine aslında `RunVersion` Entitysinden bahsettiğimiz için çağırmamız gereken fonksiyon `RunVersionController` içindedir. Bu fonksiyon 3 parametre alır. Bir tanesi modelin kaydedildiği isim, diğeri folder pathi ve son olarak opsiyonel olarak modelin uzantısını alır. Runin uzantısı default olarak binary format olan `.bin` olarak belirlenmiştir. "
   ]
  },
  {
   "cell_type": "code",
   "execution_count": 6,
   "metadata": {},
   "outputs": [
    {
     "name": "stderr",
     "output_type": "stream",
     "text": [
      "[22-02-23, 23:04:56] {_model_version_service.py - L#37} [INFO] - _model_version_service.py execution start..\n",
      "[22-02-23, 23:04:56] {_model_version_service.py - L#40} [INFO] - latest model is fetching now..\n",
      "[22-02-23, 23:04:56] {_model_version_service.py - L#44} [INFO] - Model run id : 2fc1141d586e41f1ace034398ca99942\n",
      "[22-02-23, 23:04:56] {_model_version_service.py - L#45} [INFO] - Model version : 3\n",
      "[22-02-23, 23:04:56] {_model_version_service.py - L#57} [INFO] - Path to download: result/model/skbc.bin/artifacts/skbc.bin\n",
      "[22-02-23, 23:04:56] {_model_version_service.py - L#60} [INFO] - Output Directory : /home/ctolon/miniconda3/envs/mlops-latest/lib/python3.8/site-packages/mlflow_mvc/service\n",
      "[22-02-23, 23:04:56] {_model_version_service.py - L#72} [INFO] - GET Request to -> http://0.0.0.0:5000/get-artifact?path=result/model/skbc.bin/artifacts/skbc.bin&run_uuid=2fc1141d586e41f1ace034398ca99942, params: dict_items([('path', 'result/model/skbc.bin/artifacts/skbc.bin'), ('run_uuid', '2fc1141d586e41f1ace034398ca99942')])\n"
     ]
    },
    {
     "name": "stdout",
     "output_type": "stream",
     "text": [
      "{'python_function': {'cloudpickle_version': '2.0.0', 'python_model': 'python_model.pkl', 'artifacts': {'fasttext_model_path': {'path': 'artifacts/skbc.bin', 'uri': 'result/model/skbc.bin'}}, 'loader_module': 'mlflow.pyfunc.model', 'python_version': '3.8.15', 'code': 'code', 'env': {'conda': 'conda.yaml', 'virtualenv': 'python_env.yaml'}}}\n"
     ]
    },
    {
     "name": "stderr",
     "output_type": "stream",
     "text": [
      "[22-02-23, 23:05:01] {_model_version_service.py - L#79} [INFO] - skbc download success!\n"
     ]
    }
   ],
   "source": [
    "model_version_controller.download_latest_model(\"skbc\", \"fasttext_model_path\")"
   ]
  },
  {
   "cell_type": "markdown",
   "metadata": {},
   "source": [
    "mlflow_mvc paketinde repository altında çeşitli query methodları mevcuttur. MLFlow'da son kaydedilen modelin bilgilerini almak `RunRepository` `find_latest_run_version_by_run_name` adında wraper bir fonksiyon yazılmıştır. Bu fonksiyon parametre olarak modelin ismini alır ve return olarak modelin versiyon bilgisini döner. Bu bilgiden namespace ile `run_uuid` bilgisine ulaşılır ve ileride ele alınacağı üzere run_uuid primary_key olduğundan modeldeki her bir entity'e ulaşabiliriz."
   ]
  },
  {
   "cell_type": "code",
   "execution_count": 7,
   "metadata": {},
   "outputs": [
    {
     "name": "stderr",
     "output_type": "stream",
     "text": [
      "[23-02-23, 15:12:21] {2887292406.py - L#1} [INFO] - latest model is fetching now..\n",
      "[23-02-23, 15:12:21] {2887292406.py - L#5} [INFO] - Run Name: skbc\n",
      "[23-02-23, 15:12:21] {2887292406.py - L#6} [INFO] - Run run id : 2fc1141d586e41f1ace034398ca99942\n",
      "[23-02-23, 15:12:21] {2887292406.py - L#7} [INFO] - Run version : 3\n",
      "[23-02-23, 15:12:21] {2887292406.py - L#8} [INFO] - Run Creation Timestamp: 1676551985112\n",
      "[23-02-23, 15:12:21] {2887292406.py - L#9} [INFO] - Run Last Updated Timestamp: 1676551985112\n",
      "[23-02-23, 15:12:21] {2887292406.py - L#10} [INFO] - Run Current Stage: None\n",
      "[23-02-23, 15:12:21] {2887292406.py - L#11} [INFO] - Run Description: Edit Model Desc\n",
      "[23-02-23, 15:12:21] {2887292406.py - L#12} [INFO] - Run Status: READY\n",
      "[23-02-23, 15:12:21] {2887292406.py - L#13} [INFO] - Run Tags: {'model.tag': 'test', 'model.tag2': 'test2'}\n",
      "[23-02-23, 15:12:21] {2887292406.py - L#14} [INFO] - Run Status message: \n",
      "[23-02-23, 15:12:21] {2887292406.py - L#15} [INFO] - Run Run link: \n",
      "[23-02-23, 15:12:21] {2887292406.py - L#16} [INFO] - Run Source: http://localhost:8001/api/2.0/mlflow-artifacts/artifacts/mlruns/1/2fc1141d586e41f1ace034398ca99942/artifacts/http://localhost:8001/api/2.0/mlflow-artifacts/artifacts/mlruns/1/2fc1141d586e41f1ace034398ca99942/artifacts\n"
     ]
    }
   ],
   "source": [
    "logger.info(\"latest model is fetching now..\")\n",
    "latest_model = model_version_repo.find_latest_model_version_by_model_name(model_name=\"skbc\")\n",
    "run_uuid = latest_model.run_id\n",
    "run_version = latest_model.version\n",
    "logger.info(f\"Run Name: {latest_model.name}\")\n",
    "logger.info(f\"Run run id : {run_uuid}\")\n",
    "logger.info(f\"Run version : {run_version}\")\n",
    "logger.info(f\"Run Creation Timestamp: {latest_model.creation_timestamp}\")\n",
    "logger.info(f\"Run Last Updated Timestamp: {latest_model.last_updated_timestamp}\")\n",
    "logger.info(f\"Run Current Stage: {latest_model.current_stage}\")\n",
    "logger.info(f\"Run Description: {latest_model.description}\")\n",
    "logger.info(f\"Run Status: {latest_model.status}\")\n",
    "logger.info(f\"Run Tags: {latest_model.tags}\")\n",
    "logger.info(f\"Run Status message: {latest_model.status_message}\")\n",
    "logger.info(f\"Run Run link: {latest_model.run_link}\")\n",
    "logger.info(f\"Run Source: {latest_model.source}\")"
   ]
  },
  {
   "cell_type": "markdown",
   "metadata": {},
   "source": [
    "İstersek mlflow-mvc framework'ü yerine mlflow'un kendi API'sini kullanarak örneğin tum `Run` entitylerine ulaşabiliriz:"
   ]
  },
  {
   "cell_type": "code",
   "execution_count": 7,
   "metadata": {},
   "outputs": [
    {
     "name": "stdout",
     "output_type": "stream",
     "text": [
      "i =  <Run: data=<RunData: metrics={'dim': 50.0,\n",
      " 'epoch': 800.0,\n",
      " 'lr': 0.1,\n",
      " 'lrUpdateRate': 100.0,\n",
      " 'wordNgrams': 2.0}, params={}, tags={'PYTHON_VERSION': '3.8.15',\n",
      " 'mlflow.log-model.history': '[{\"run_id\": \"2fc1141d586e41f1ace034398ca99942\", '\n",
      "                             '\"artifact_path\": \"result/model/skbc.bin\", '\n",
      "                             '\"utc_time_created\": \"2023-02-16 '\n",
      "                             '12:53:01.633914\", \"flavors\": {\"python_function\": '\n",
      "                             '{\"cloudpickle_version\": \"2.0.0\", \"python_model\": '\n",
      "                             '\"python_model.pkl\", \"artifacts\": '\n",
      "                             '{\"fasttext_model_path\": {\"path\": '\n",
      "                             '\"artifacts/skbc.bin\", \"uri\": '\n",
      "                             '\"result/model/skbc.bin\"}}, \"loader_module\": '\n",
      "                             '\"mlflow.pyfunc.model\", \"python_version\": '\n",
      "                             '\"3.8.15\", \"code\": \"code\", \"env\": {\"conda\": '\n",
      "                             '\"conda.yaml\", \"virtualenv\": '\n",
      "                             '\"python_env.yaml\"}}}, \"model_uuid\": '\n",
      "                             '\"a38e789dce6b4be99518e159659eba23\", '\n",
      "                             '\"mlflow_version\": \"2.1.1\"}]',\n",
      " 'mlflow.note.content': 'Edit Run Desc',\n",
      " 'mlflow.project.env': 'docker',\n",
      " 'mlflow.runName': 'deneme1',\n",
      " 'mlflow.source.git.commit': '6ef5e818217673f7fa45ed51f2ab7b61589cf813',\n",
      " 'mlflow.source.name': 'train.py',\n",
      " 'mlflow.source.type': 'LOCAL',\n",
      " 'mlflow.user': 'ctolon',\n",
      " 'release.candidate': 'RC1',\n",
      " 'release.version': '2.2.0',\n",
      " 'runtag': 'runtag'}>, info=<RunInfo: artifact_uri='http://localhost:8001/api/2.0/mlflow-artifacts/artifacts/mlruns/1/2fc1141d586e41f1ace034398ca99942/artifacts', end_time=1676551985121, experiment_id='1', lifecycle_stage='active', run_id='2fc1141d586e41f1ace034398ca99942', run_name='deneme1', run_uuid='2fc1141d586e41f1ace034398ca99942', start_time=1676551980351, status='FINISHED', user_id='ctolon'>> type : <class 'mlflow.entities.run.Run'>\n",
      "i =  <Run: data=<RunData: metrics={'dim': 50.0,\n",
      " 'epoch': 800.0,\n",
      " 'lr': 0.1,\n",
      " 'lrUpdateRate': 100.0,\n",
      " 'wordNgrams': 2.0}, params={}, tags={'PYTHON_VERSION': '3.8.15',\n",
      " 'mlflow.log-model.history': '[{\"run_id\": \"6fd4e1083531476586560ef752f97dac\", '\n",
      "                             '\"artifact_path\": \"result/model/skbc.bin\", '\n",
      "                             '\"utc_time_created\": \"2023-02-16 '\n",
      "                             '11:23:05.890238\", \"flavors\": {\"python_function\": '\n",
      "                             '{\"cloudpickle_version\": \"2.0.0\", \"python_model\": '\n",
      "                             '\"python_model.pkl\", \"artifacts\": '\n",
      "                             '{\"fasttext_model_path\": {\"path\": '\n",
      "                             '\"artifacts/skbc.bin\", \"uri\": '\n",
      "                             '\"result/model/skbc.bin\"}}, \"loader_module\": '\n",
      "                             '\"mlflow.pyfunc.model\", \"python_version\": '\n",
      "                             '\"3.8.15\", \"code\": \"code\", \"env\": {\"conda\": '\n",
      "                             '\"conda.yaml\", \"virtualenv\": '\n",
      "                             '\"python_env.yaml\"}}}, \"model_uuid\": '\n",
      "                             '\"bd513fd0f8134e76b9790b59cb7a7abe\", '\n",
      "                             '\"mlflow_version\": \"2.1.1\"}]',\n",
      " 'mlflow.note.content': 'Edit Run Desc',\n",
      " 'mlflow.project.env': 'docker',\n",
      " 'mlflow.runName': 'deneme1',\n",
      " 'mlflow.source.git.commit': '6ef5e818217673f7fa45ed51f2ab7b61589cf813',\n",
      " 'mlflow.source.name': 'train.py',\n",
      " 'mlflow.source.type': 'LOCAL',\n",
      " 'mlflow.user': 'ctolon',\n",
      " 'release.candidate': 'RC1',\n",
      " 'release.version': '2.2.0',\n",
      " 'runtag': 'runtag'}>, info=<RunInfo: artifact_uri='http://localhost:8001/api/2.0/mlflow-artifacts/artifacts/mlruns/1/6fd4e1083531476586560ef752f97dac/artifacts', end_time=1676546589384, experiment_id='1', lifecycle_stage='active', run_id='6fd4e1083531476586560ef752f97dac', run_name='deneme1', run_uuid='6fd4e1083531476586560ef752f97dac', start_time=1676546584322, status='FINISHED', user_id='ctolon'>> type : <class 'mlflow.entities.run.Run'>\n",
      "i =  <Run: data=<RunData: metrics={'mae': 0.99}, params={'max_depth': '2'}, tags={'mlflow.runName': 'run_for_exp_py_exp_16766339136901524'}>, info=<RunInfo: artifact_uri='http://localhost:8001/api/2.0/mlflow-artifacts/artifacts/mlruns/4/02c7eff999714ef0b4cfe1026423d443/artifacts', end_time=1676634913, experiment_id='4', lifecycle_stage='active', run_id='02c7eff999714ef0b4cfe1026423d443', run_name='run_for_exp_py_exp_16766339136901524', run_uuid='02c7eff999714ef0b4cfe1026423d443', start_time=1676633913, status='FINISHED', user_id=''>> type : <class 'mlflow.entities.run.Run'>\n",
      "i =  <Run: data=<RunData: metrics={'mae': 0.99}, params={'max_depth': '2'}, tags={'mlflow.runName': 'run_for_exp_py_exp_16766312703932707'}>, info=<RunInfo: artifact_uri='http://localhost:8001/api/2.0/mlflow-artifacts/artifacts/mlruns/3/d98f9ddb31884908b02fdbe4295990f4/artifacts', end_time=1676632270, experiment_id='3', lifecycle_stage='active', run_id='d98f9ddb31884908b02fdbe4295990f4', run_name='run_for_exp_py_exp_16766312703932707', run_uuid='d98f9ddb31884908b02fdbe4295990f4', start_time=1676631270, status='FINISHED', user_id=''>> type : <class 'mlflow.entities.run.Run'>\n",
      "i =  <Run: data=<RunData: metrics={'mae': 0.99}, params={'max_depth': '2'}, tags={'mlflow.runName': 'run_for_exp_py_exp_16766311733228045'}>, info=<RunInfo: artifact_uri='http://localhost:8001/api/2.0/mlflow-artifacts/artifacts/mlruns/2/7bb3a850c4d943938d6371f9de510442/artifacts', end_time=1676632173, experiment_id='2', lifecycle_stage='active', run_id='7bb3a850c4d943938d6371f9de510442', run_name='run_for_exp_py_exp_16766311733228045', run_uuid='7bb3a850c4d943938d6371f9de510442', start_time=1676631173, status='FINISHED', user_id=''>> type : <class 'mlflow.entities.run.Run'>\n"
     ]
    }
   ],
   "source": [
    "_ = mlflow.search_runs(\n",
    "    search_all_experiments=True,\n",
    "    filter_string='',\n",
    "    output_format=\"list\",\n",
    "    )\n",
    "for i in _:\n",
    "    print(\"i = \", i, \"type :\", type(i))"
   ]
  },
  {
   "cell_type": "markdown",
   "metadata": {},
   "source": [
    "Benzer şekilde tüm modelleri `pandas` formatında listelemek istiyorsak mlflow içindeki search_runs fonksiyonu kullanılır ve output_format parametresi `pandas` olarak değiştirilir."
   ]
  },
  {
   "cell_type": "code",
   "execution_count": 8,
   "metadata": {},
   "outputs": [
    {
     "data": {
      "text/html": [
       "<div>\n",
       "<style scoped>\n",
       "    .dataframe tbody tr th:only-of-type {\n",
       "        vertical-align: middle;\n",
       "    }\n",
       "\n",
       "    .dataframe tbody tr th {\n",
       "        vertical-align: top;\n",
       "    }\n",
       "\n",
       "    .dataframe thead th {\n",
       "        text-align: right;\n",
       "    }\n",
       "</style>\n",
       "<table border=\"1\" class=\"dataframe\">\n",
       "  <thead>\n",
       "    <tr style=\"text-align: right;\">\n",
       "      <th></th>\n",
       "      <th>run_id</th>\n",
       "      <th>experiment_id</th>\n",
       "      <th>status</th>\n",
       "      <th>artifact_uri</th>\n",
       "      <th>start_time</th>\n",
       "      <th>end_time</th>\n",
       "      <th>metrics.epoch</th>\n",
       "      <th>metrics.lrUpdateRate</th>\n",
       "      <th>metrics.lr</th>\n",
       "      <th>metrics.dim</th>\n",
       "      <th>metrics.wordNgrams</th>\n",
       "      <th>metrics.mae</th>\n",
       "      <th>params.max_depth</th>\n",
       "      <th>tags.mlflow.note.content</th>\n",
       "      <th>tags.mlflow.user</th>\n",
       "      <th>tags.mlflow.source.type</th>\n",
       "      <th>tags.release.candidate</th>\n",
       "      <th>tags.mlflow.project.env</th>\n",
       "      <th>tags.runtag</th>\n",
       "      <th>tags.release.version</th>\n",
       "      <th>tags.mlflow.source.git.commit</th>\n",
       "      <th>tags.mlflow.log-model.history</th>\n",
       "      <th>tags.mlflow.source.name</th>\n",
       "      <th>tags.mlflow.runName</th>\n",
       "      <th>tags.PYTHON_VERSION</th>\n",
       "    </tr>\n",
       "  </thead>\n",
       "  <tbody>\n",
       "    <tr>\n",
       "      <th>0</th>\n",
       "      <td>2fc1141d586e41f1ace034398ca99942</td>\n",
       "      <td>1</td>\n",
       "      <td>FINISHED</td>\n",
       "      <td>http://localhost:8001/api/2.0/mlflow-artifacts...</td>\n",
       "      <td>2023-02-16 12:53:00.351000+00:00</td>\n",
       "      <td>2023-02-16 12:53:05.121000+00:00</td>\n",
       "      <td>800.0</td>\n",
       "      <td>100.0</td>\n",
       "      <td>0.1</td>\n",
       "      <td>50.0</td>\n",
       "      <td>2.0</td>\n",
       "      <td>NaN</td>\n",
       "      <td>None</td>\n",
       "      <td>Edit Run Desc</td>\n",
       "      <td>ctolon</td>\n",
       "      <td>LOCAL</td>\n",
       "      <td>RC1</td>\n",
       "      <td>docker</td>\n",
       "      <td>runtag</td>\n",
       "      <td>2.2.0</td>\n",
       "      <td>6ef5e818217673f7fa45ed51f2ab7b61589cf813</td>\n",
       "      <td>[{\"run_id\": \"2fc1141d586e41f1ace034398ca99942\"...</td>\n",
       "      <td>train.py</td>\n",
       "      <td>deneme1</td>\n",
       "      <td>3.8.15</td>\n",
       "    </tr>\n",
       "    <tr>\n",
       "      <th>1</th>\n",
       "      <td>6fd4e1083531476586560ef752f97dac</td>\n",
       "      <td>1</td>\n",
       "      <td>FINISHED</td>\n",
       "      <td>http://localhost:8001/api/2.0/mlflow-artifacts...</td>\n",
       "      <td>2023-02-16 11:23:04.322000+00:00</td>\n",
       "      <td>2023-02-16 11:23:09.384000+00:00</td>\n",
       "      <td>800.0</td>\n",
       "      <td>100.0</td>\n",
       "      <td>0.1</td>\n",
       "      <td>50.0</td>\n",
       "      <td>2.0</td>\n",
       "      <td>NaN</td>\n",
       "      <td>None</td>\n",
       "      <td>Edit Run Desc</td>\n",
       "      <td>ctolon</td>\n",
       "      <td>LOCAL</td>\n",
       "      <td>RC1</td>\n",
       "      <td>docker</td>\n",
       "      <td>runtag</td>\n",
       "      <td>2.2.0</td>\n",
       "      <td>6ef5e818217673f7fa45ed51f2ab7b61589cf813</td>\n",
       "      <td>[{\"run_id\": \"6fd4e1083531476586560ef752f97dac\"...</td>\n",
       "      <td>train.py</td>\n",
       "      <td>deneme1</td>\n",
       "      <td>3.8.15</td>\n",
       "    </tr>\n",
       "    <tr>\n",
       "      <th>2</th>\n",
       "      <td>02c7eff999714ef0b4cfe1026423d443</td>\n",
       "      <td>4</td>\n",
       "      <td>FINISHED</td>\n",
       "      <td>http://localhost:8001/api/2.0/mlflow-artifacts...</td>\n",
       "      <td>1970-01-20 09:43:53.913000+00:00</td>\n",
       "      <td>1970-01-20 09:43:54.913000+00:00</td>\n",
       "      <td>NaN</td>\n",
       "      <td>NaN</td>\n",
       "      <td>NaN</td>\n",
       "      <td>NaN</td>\n",
       "      <td>NaN</td>\n",
       "      <td>0.99</td>\n",
       "      <td>2</td>\n",
       "      <td>None</td>\n",
       "      <td>None</td>\n",
       "      <td>None</td>\n",
       "      <td>None</td>\n",
       "      <td>None</td>\n",
       "      <td>None</td>\n",
       "      <td>None</td>\n",
       "      <td>None</td>\n",
       "      <td>None</td>\n",
       "      <td>None</td>\n",
       "      <td>run_for_exp_py_exp_16766339136901524</td>\n",
       "      <td>None</td>\n",
       "    </tr>\n",
       "    <tr>\n",
       "      <th>3</th>\n",
       "      <td>d98f9ddb31884908b02fdbe4295990f4</td>\n",
       "      <td>3</td>\n",
       "      <td>FINISHED</td>\n",
       "      <td>http://localhost:8001/api/2.0/mlflow-artifacts...</td>\n",
       "      <td>1970-01-20 09:43:51.270000+00:00</td>\n",
       "      <td>1970-01-20 09:43:52.270000+00:00</td>\n",
       "      <td>NaN</td>\n",
       "      <td>NaN</td>\n",
       "      <td>NaN</td>\n",
       "      <td>NaN</td>\n",
       "      <td>NaN</td>\n",
       "      <td>0.99</td>\n",
       "      <td>2</td>\n",
       "      <td>None</td>\n",
       "      <td>None</td>\n",
       "      <td>None</td>\n",
       "      <td>None</td>\n",
       "      <td>None</td>\n",
       "      <td>None</td>\n",
       "      <td>None</td>\n",
       "      <td>None</td>\n",
       "      <td>None</td>\n",
       "      <td>None</td>\n",
       "      <td>run_for_exp_py_exp_16766312703932707</td>\n",
       "      <td>None</td>\n",
       "    </tr>\n",
       "    <tr>\n",
       "      <th>4</th>\n",
       "      <td>7bb3a850c4d943938d6371f9de510442</td>\n",
       "      <td>2</td>\n",
       "      <td>FINISHED</td>\n",
       "      <td>http://localhost:8001/api/2.0/mlflow-artifacts...</td>\n",
       "      <td>1970-01-20 09:43:51.173000+00:00</td>\n",
       "      <td>1970-01-20 09:43:52.173000+00:00</td>\n",
       "      <td>NaN</td>\n",
       "      <td>NaN</td>\n",
       "      <td>NaN</td>\n",
       "      <td>NaN</td>\n",
       "      <td>NaN</td>\n",
       "      <td>0.99</td>\n",
       "      <td>2</td>\n",
       "      <td>None</td>\n",
       "      <td>None</td>\n",
       "      <td>None</td>\n",
       "      <td>None</td>\n",
       "      <td>None</td>\n",
       "      <td>None</td>\n",
       "      <td>None</td>\n",
       "      <td>None</td>\n",
       "      <td>None</td>\n",
       "      <td>None</td>\n",
       "      <td>run_for_exp_py_exp_16766311733228045</td>\n",
       "      <td>None</td>\n",
       "    </tr>\n",
       "  </tbody>\n",
       "</table>\n",
       "</div>"
      ],
      "text/plain": [
       "                             run_id experiment_id    status  \\\n",
       "0  2fc1141d586e41f1ace034398ca99942             1  FINISHED   \n",
       "1  6fd4e1083531476586560ef752f97dac             1  FINISHED   \n",
       "2  02c7eff999714ef0b4cfe1026423d443             4  FINISHED   \n",
       "3  d98f9ddb31884908b02fdbe4295990f4             3  FINISHED   \n",
       "4  7bb3a850c4d943938d6371f9de510442             2  FINISHED   \n",
       "\n",
       "                                        artifact_uri  \\\n",
       "0  http://localhost:8001/api/2.0/mlflow-artifacts...   \n",
       "1  http://localhost:8001/api/2.0/mlflow-artifacts...   \n",
       "2  http://localhost:8001/api/2.0/mlflow-artifacts...   \n",
       "3  http://localhost:8001/api/2.0/mlflow-artifacts...   \n",
       "4  http://localhost:8001/api/2.0/mlflow-artifacts...   \n",
       "\n",
       "                        start_time                         end_time  \\\n",
       "0 2023-02-16 12:53:00.351000+00:00 2023-02-16 12:53:05.121000+00:00   \n",
       "1 2023-02-16 11:23:04.322000+00:00 2023-02-16 11:23:09.384000+00:00   \n",
       "2 1970-01-20 09:43:53.913000+00:00 1970-01-20 09:43:54.913000+00:00   \n",
       "3 1970-01-20 09:43:51.270000+00:00 1970-01-20 09:43:52.270000+00:00   \n",
       "4 1970-01-20 09:43:51.173000+00:00 1970-01-20 09:43:52.173000+00:00   \n",
       "\n",
       "   metrics.epoch  metrics.lrUpdateRate  metrics.lr  metrics.dim  \\\n",
       "0          800.0                 100.0         0.1         50.0   \n",
       "1          800.0                 100.0         0.1         50.0   \n",
       "2            NaN                   NaN         NaN          NaN   \n",
       "3            NaN                   NaN         NaN          NaN   \n",
       "4            NaN                   NaN         NaN          NaN   \n",
       "\n",
       "   metrics.wordNgrams  metrics.mae params.max_depth tags.mlflow.note.content  \\\n",
       "0                 2.0          NaN             None            Edit Run Desc   \n",
       "1                 2.0          NaN             None            Edit Run Desc   \n",
       "2                 NaN         0.99                2                     None   \n",
       "3                 NaN         0.99                2                     None   \n",
       "4                 NaN         0.99                2                     None   \n",
       "\n",
       "  tags.mlflow.user tags.mlflow.source.type tags.release.candidate  \\\n",
       "0           ctolon                   LOCAL                    RC1   \n",
       "1           ctolon                   LOCAL                    RC1   \n",
       "2             None                    None                   None   \n",
       "3             None                    None                   None   \n",
       "4             None                    None                   None   \n",
       "\n",
       "  tags.mlflow.project.env tags.runtag tags.release.version  \\\n",
       "0                  docker      runtag                2.2.0   \n",
       "1                  docker      runtag                2.2.0   \n",
       "2                    None        None                 None   \n",
       "3                    None        None                 None   \n",
       "4                    None        None                 None   \n",
       "\n",
       "              tags.mlflow.source.git.commit  \\\n",
       "0  6ef5e818217673f7fa45ed51f2ab7b61589cf813   \n",
       "1  6ef5e818217673f7fa45ed51f2ab7b61589cf813   \n",
       "2                                      None   \n",
       "3                                      None   \n",
       "4                                      None   \n",
       "\n",
       "                       tags.mlflow.log-model.history tags.mlflow.source.name  \\\n",
       "0  [{\"run_id\": \"2fc1141d586e41f1ace034398ca99942\"...                train.py   \n",
       "1  [{\"run_id\": \"6fd4e1083531476586560ef752f97dac\"...                train.py   \n",
       "2                                               None                    None   \n",
       "3                                               None                    None   \n",
       "4                                               None                    None   \n",
       "\n",
       "                    tags.mlflow.runName tags.PYTHON_VERSION  \n",
       "0                               deneme1              3.8.15  \n",
       "1                               deneme1              3.8.15  \n",
       "2  run_for_exp_py_exp_16766339136901524                None  \n",
       "3  run_for_exp_py_exp_16766312703932707                None  \n",
       "4  run_for_exp_py_exp_16766311733228045                None  "
      ]
     },
     "execution_count": 8,
     "metadata": {},
     "output_type": "execute_result"
    }
   ],
   "source": [
    "pd.pandas.set_option('display.max_columns', None)\n",
    "pandas_format = mlflow.search_runs(\n",
    "    search_all_experiments=True,\n",
    "    output_format=\"pandas\"\n",
    "    )\n",
    "pandas_format.head()"
   ]
  },
  {
   "cell_type": "code",
   "execution_count": 9,
   "metadata": {},
   "outputs": [
    {
     "data": {
      "text/plain": [
       "['run_id',\n",
       " 'experiment_id',\n",
       " 'status',\n",
       " 'artifact_uri',\n",
       " 'start_time',\n",
       " 'end_time',\n",
       " 'metrics.epoch',\n",
       " 'metrics.lrUpdateRate',\n",
       " 'metrics.lr',\n",
       " 'metrics.dim',\n",
       " 'metrics.wordNgrams',\n",
       " 'metrics.mae',\n",
       " 'params.max_depth',\n",
       " 'tags.mlflow.note.content',\n",
       " 'tags.mlflow.user',\n",
       " 'tags.mlflow.source.type',\n",
       " 'tags.release.candidate',\n",
       " 'tags.mlflow.project.env',\n",
       " 'tags.runtag',\n",
       " 'tags.release.version',\n",
       " 'tags.mlflow.source.git.commit',\n",
       " 'tags.mlflow.log-model.history',\n",
       " 'tags.mlflow.source.name',\n",
       " 'tags.mlflow.runName',\n",
       " 'tags.PYTHON_VERSION']"
      ]
     },
     "execution_count": 9,
     "metadata": {},
     "output_type": "execute_result"
    }
   ],
   "source": [
    "pandas_format.columns.to_list()"
   ]
  },
  {
   "cell_type": "markdown",
   "metadata": {},
   "source": [
    "#### Section 6: Runin Metadalarına JSON format çıktısında erişmek\n",
    "Run Entity'sinin metadatalarına daha kolay erişmek için `RunDataEntity` Adında bir class yazılmıştır. Bu class recursive olarak entity'nin her bir field'ına `get` metoduyla ulaşılarak modeldeki her bir niceliğe key - value yaklaşımıyla ulaşır."
   ]
  },
  {
   "cell_type": "code",
   "execution_count": 10,
   "metadata": {},
   "outputs": [],
   "source": [
    "# Get Run Run by Run Id\n",
    "run = run_repo.find_run_by_run_id(run_id=run_uuid)\n",
    "run_data_model = RunDataEntity(run, \"fasttext_model_path\", strict_return=True)\n",
    "run_info_model = RunInfoEntity(run)"
   ]
  },
  {
   "cell_type": "markdown",
   "metadata": {},
   "source": [
    "Örneğin modelimizin response'unu inceleyelim:"
   ]
  },
  {
   "cell_type": "code",
   "execution_count": 11,
   "metadata": {},
   "outputs": [
    {
     "data": {
      "text/plain": [
       "(<Run: data=<RunData: metrics={'dim': 50.0,\n",
       "  'epoch': 800.0,\n",
       "  'lr': 0.1,\n",
       "  'lrUpdateRate': 100.0,\n",
       "  'wordNgrams': 2.0}, params={}, tags={'PYTHON_VERSION': '3.8.15',\n",
       "  'mlflow.log-model.history': '[{\"run_id\": \"2fc1141d586e41f1ace034398ca99942\", '\n",
       "                              '\"artifact_path\": \"result/model/skbc.bin\", '\n",
       "                              '\"utc_time_created\": \"2023-02-16 '\n",
       "                              '12:53:01.633914\", \"flavors\": {\"python_function\": '\n",
       "                              '{\"cloudpickle_version\": \"2.0.0\", \"python_model\": '\n",
       "                              '\"python_model.pkl\", \"artifacts\": '\n",
       "                              '{\"fasttext_model_path\": {\"path\": '\n",
       "                              '\"artifacts/skbc.bin\", \"uri\": '\n",
       "                              '\"result/model/skbc.bin\"}}, \"loader_module\": '\n",
       "                              '\"mlflow.pyfunc.model\", \"python_version\": '\n",
       "                              '\"3.8.15\", \"code\": \"code\", \"env\": {\"conda\": '\n",
       "                              '\"conda.yaml\", \"virtualenv\": '\n",
       "                              '\"python_env.yaml\"}}}, \"model_uuid\": '\n",
       "                              '\"a38e789dce6b4be99518e159659eba23\", '\n",
       "                              '\"mlflow_version\": \"2.1.1\"}]',\n",
       "  'mlflow.note.content': 'Edit Run Desc',\n",
       "  'mlflow.project.env': 'docker',\n",
       "  'mlflow.runName': 'deneme1',\n",
       "  'mlflow.source.git.commit': '6ef5e818217673f7fa45ed51f2ab7b61589cf813',\n",
       "  'mlflow.source.name': 'train.py',\n",
       "  'mlflow.source.type': 'LOCAL',\n",
       "  'mlflow.user': 'ctolon',\n",
       "  'release.candidate': 'RC1',\n",
       "  'release.version': '2.2.0',\n",
       "  'runtag': 'runtag'}>, info=<RunInfo: artifact_uri='http://localhost:8001/api/2.0/mlflow-artifacts/artifacts/mlruns/1/2fc1141d586e41f1ace034398ca99942/artifacts', end_time=1676551985121, experiment_id='1', lifecycle_stage='active', run_id='2fc1141d586e41f1ace034398ca99942', run_name='deneme1', run_uuid='2fc1141d586e41f1ace034398ca99942', start_time=1676551980351, status='FINISHED', user_id='ctolon'>>,\n",
       " mlflow.entities.run.Run)"
      ]
     },
     "execution_count": 11,
     "metadata": {},
     "output_type": "execute_result"
    }
   ],
   "source": [
    "run, type(run)"
   ]
  },
  {
   "cell_type": "markdown",
   "metadata": {},
   "source": [
    "Görüldüğü üzere modelin response'u mlflow'da generic bir tip olan `Run` olarak dönüyor. Bunun için bir `dict` transformation yazılmıştır ve entity methodlarında `__init__` yani constructor tarafında uygulanmıştır. Bu transformasyon response'un çıktısını preprocessing ile işlenebilir hale getirir. Bu transformation bu şekildedir:"
   ]
  },
  {
   "cell_type": "code",
   "execution_count": 12,
   "metadata": {},
   "outputs": [
    {
     "data": {
      "text/plain": [
       "{'data': <RunData: metrics={'dim': 50.0,\n",
       "  'epoch': 800.0,\n",
       "  'lr': 0.1,\n",
       "  'lrUpdateRate': 100.0,\n",
       "  'wordNgrams': 2.0}, params={}, tags={'PYTHON_VERSION': '3.8.15',\n",
       "  'mlflow.log-model.history': '[{\"run_id\": \"2fc1141d586e41f1ace034398ca99942\", '\n",
       "                              '\"artifact_path\": \"result/model/skbc.bin\", '\n",
       "                              '\"utc_time_created\": \"2023-02-16 '\n",
       "                              '12:53:01.633914\", \"flavors\": {\"python_function\": '\n",
       "                              '{\"cloudpickle_version\": \"2.0.0\", \"python_model\": '\n",
       "                              '\"python_model.pkl\", \"artifacts\": '\n",
       "                              '{\"fasttext_model_path\": {\"path\": '\n",
       "                              '\"artifacts/skbc.bin\", \"uri\": '\n",
       "                              '\"result/model/skbc.bin\"}}, \"loader_module\": '\n",
       "                              '\"mlflow.pyfunc.model\", \"python_version\": '\n",
       "                              '\"3.8.15\", \"code\": \"code\", \"env\": {\"conda\": '\n",
       "                              '\"conda.yaml\", \"virtualenv\": '\n",
       "                              '\"python_env.yaml\"}}}, \"model_uuid\": '\n",
       "                              '\"a38e789dce6b4be99518e159659eba23\", '\n",
       "                              '\"mlflow_version\": \"2.1.1\"}]',\n",
       "  'mlflow.note.content': 'Edit Run Desc',\n",
       "  'mlflow.project.env': 'docker',\n",
       "  'mlflow.runName': 'deneme1',\n",
       "  'mlflow.source.git.commit': '6ef5e818217673f7fa45ed51f2ab7b61589cf813',\n",
       "  'mlflow.source.name': 'train.py',\n",
       "  'mlflow.source.type': 'LOCAL',\n",
       "  'mlflow.user': 'ctolon',\n",
       "  'release.candidate': 'RC1',\n",
       "  'release.version': '2.2.0',\n",
       "  'runtag': 'runtag'}>,\n",
       " 'info': <RunInfo: artifact_uri='http://localhost:8001/api/2.0/mlflow-artifacts/artifacts/mlruns/1/2fc1141d586e41f1ace034398ca99942/artifacts', end_time=1676551985121, experiment_id='1', lifecycle_stage='active', run_id='2fc1141d586e41f1ace034398ca99942', run_name='deneme1', run_uuid='2fc1141d586e41f1ace034398ca99942', start_time=1676551980351, status='FINISHED', user_id='ctolon'>}"
      ]
     },
     "execution_count": 12,
     "metadata": {},
     "output_type": "execute_result"
    }
   ],
   "source": [
    "dict(run)"
   ]
  },
  {
   "cell_type": "markdown",
   "metadata": {},
   "source": [
    "Görüldüğü üzere artık sonuç daha anlamlıdır. Transformation uygulanmış response'u incelersek dataların key - value şeklinde tutulduğu, `mlflow.log-model.history` fieldı'nın valuesi ise `json` tipinde dönmüştür! Bunu ayrı olarak ele almak gerekir. Bu durum `RunDataEntity` sınıfı içinde özel olarak ele alınmıştır."
   ]
  },
  {
   "cell_type": "code",
   "execution_count": 13,
   "metadata": {},
   "outputs": [
    {
     "data": {
      "text/plain": [
       "'code'"
      ]
     },
     "execution_count": 13,
     "metadata": {},
     "output_type": "execute_result"
    }
   ],
   "source": [
    "# Debug\n",
    "c = run_data_model.get_model_log_history\n",
    "c[\"flavors\"]\n",
    "c[\"flavors\"][\"python_function\"][\"code\"]"
   ]
  },
  {
   "cell_type": "markdown",
   "metadata": {},
   "source": [
    "Şimdi `Run` Entitysinin mevcut tüm fieldlarına `get` metodları ile ulaşabiliriz"
   ]
  },
  {
   "cell_type": "code",
   "execution_count": 15,
   "metadata": {},
   "outputs": [
    {
     "name": "stdout",
     "output_type": "stream",
     "text": [
      "Run Metrics:  {'epoch': 800.0, 'dim': 50.0, 'wordNgrams': 2.0, 'lr': 0.1, 'lrUpdateRate': 100.0} <class 'dict'>\n",
      "Run Params : {} <class 'dict'>\n",
      "Run Tags:  {'mlflow.user': 'ctolon', 'mlflow.source.name': 'train.py', 'mlflow.source.type': 'LOCAL', 'mlflow.source.git.commit': '6ef5e818217673f7fa45ed51f2ab7b61589cf813', 'runtag': 'runtag', 'release.candidate': 'RC1', 'release.version': '2.2.0', 'mlflow.note.content': 'Edit Run Desc', 'mlflow.runName': 'deneme1', 'mlflow.project.env': 'docker', 'PYTHON_VERSION': '3.8.15', 'mlflow.log-model.history': '[{\"run_id\": \"2fc1141d586e41f1ace034398ca99942\", \"artifact_path\": \"result/model/skbc.bin\", \"utc_time_created\": \"2023-02-16 12:53:01.633914\", \"flavors\": {\"python_function\": {\"cloudpickle_version\": \"2.0.0\", \"python_model\": \"python_model.pkl\", \"artifacts\": {\"fasttext_model_path\": {\"path\": \"artifacts/skbc.bin\", \"uri\": \"result/model/skbc.bin\"}}, \"loader_module\": \"mlflow.pyfunc.model\", \"python_version\": \"3.8.15\", \"code\": \"code\", \"env\": {\"conda\": \"conda.yaml\", \"virtualenv\": \"python_env.yaml\"}}}, \"model_uuid\": \"a38e789dce6b4be99518e159659eba23\", \"mlflow_version\": \"2.1.1\"}]'} <class 'dict'>\n",
      "Run Source name:  train.py <class 'str'>\n",
      "Run Source Type:  LOCAL <class 'str'>\n",
      "Run Git Commit:  6ef5e818217673f7fa45ed51f2ab7b61589cf813 <class 'str'>\n",
      "Run Description:  Edit Run Desc <class 'str'>\n",
      "Run Run name:  deneme1 <class 'str'>\n",
      "Run Environment  docker <class 'str'>\n",
      "Run Meta Data : {'run_id': '2fc1141d586e41f1ace034398ca99942', 'artifact_path': 'result/model/skbc.bin', 'utc_time_created': '2023-02-16 12:53:01.633914', 'flavors': {'python_function': {'cloudpickle_version': '2.0.0', 'python_model': 'python_model.pkl', 'artifacts': {'fasttext_model_path': {'path': 'artifacts/skbc.bin', 'uri': 'result/model/skbc.bin'}}, 'loader_module': 'mlflow.pyfunc.model', 'python_version': '3.8.15', 'code': 'code', 'env': {'conda': 'conda.yaml', 'virtualenv': 'python_env.yaml'}}}, 'model_uuid': 'a38e789dce6b4be99518e159659eba23', 'mlflow_version': '2.1.1'} <class 'dict'>\n",
      "Run Run Id : 2fc1141d586e41f1ace034398ca99942 <class 'str'>\n",
      "Run Artifact Path : result/model/skbc.bin <class 'str'>\n",
      "Run Creation Time in UTC : 2023-02-16 12:53:01.633914 2023-02-16 12:53:01.633914 <class 'str'>\n",
      "Run Flavors:  {'python_function': {'cloudpickle_version': '2.0.0', 'python_model': 'python_model.pkl', 'artifacts': {'fasttext_model_path': {'path': 'artifacts/skbc.bin', 'uri': 'result/model/skbc.bin'}}, 'loader_module': 'mlflow.pyfunc.model', 'python_version': '3.8.15', 'code': 'code', 'env': {'conda': 'conda.yaml', 'virtualenv': 'python_env.yaml'}}} <class 'dict'>\n",
      "Run Python Function : {'cloudpickle_version': '2.0.0', 'python_model': 'python_model.pkl', 'artifacts': {'fasttext_model_path': {'path': 'artifacts/skbc.bin', 'uri': 'result/model/skbc.bin'}}, 'loader_module': 'mlflow.pyfunc.model', 'python_version': '3.8.15', 'code': 'code', 'env': {'conda': 'conda.yaml', 'virtualenv': 'python_env.yaml'}} <class 'dict'>\n",
      "Run Artifacts:  {'fasttext_model_path': {'path': 'artifacts/skbc.bin', 'uri': 'result/model/skbc.bin'}} <class 'dict'>\n",
      "Run Path and URI: {'path': 'artifacts/skbc.bin', 'uri': 'result/model/skbc.bin'} <class 'dict'>\n",
      "Run Path:  artifacts/skbc.bin <class 'str'>\n",
      "Run URI : result/model/skbc.bin <class 'str'>\n",
      "Run Loader Module : mlflow.pyfunc.model <class 'str'>\n",
      "Run Python Version : <class 'str'>\n",
      "Run Code : <class 'str'>\n",
      "Run Env : <class 'dict'>\n",
      "Run Conda Env : conda.yaml\n",
      "Run Virtual Env : python_env.yaml\n",
      "Run UUID : <class 'str'>\n",
      "Run MLflow Version : <class 'str'>\n"
     ]
    }
   ],
   "source": [
    "# Properties\n",
    "run_metrics = run_data_model.get_metrics\n",
    "run_params = run_data_model.get_params\n",
    "run_tags = run_data_model.get_run_tags\n",
    "run_source_name = run_data_model.get_source_name\n",
    "run_source_type = run_data_model.get_source_type\n",
    "run_git_commit = run_data_model.get_git_commit\n",
    "run_desc = run_data_model.get_description\n",
    "run_run_name = run_data_model.get_run_name\n",
    "run_project_env = run_data_model.get_project_env\n",
    "run_meta_data = run_data_model.get_model_log_history\n",
    "run_run_id = run_data_model.get_run_id\n",
    "run_artifact_path = run_data_model.get_artifact_path\n",
    "run_creation_time = run_data_model.get_utc_time_created\n",
    "run_flavors = run_data_model.get_flavors\n",
    "run_py_func = run_data_model.get_python_function\n",
    "run_artifacts = run_data_model.get_artifacts\n",
    "run_path_and_uri = run_data_model.get_model_path_and_uri\n",
    "run_path = run_data_model.get_model_path \n",
    "run_uri = run_data_model.get_model_uri\n",
    "run_loader_module = run_data_model.get_loader_module\n",
    "run_python_version = run_data_model.get_python_version\n",
    "run_code = run_data_model.get_code\n",
    "run_env = run_data_model.get_model_env\n",
    "run_conda_env = run_data_model.get_conda_env\n",
    "run_virtual_env = run_data_model.get_virtual_env\n",
    "run_uuid = run_data_model.get_model_uuid\n",
    "run_mlflow_version = run_data_model.get_mlflow_version\n",
    "\n",
    "# Displays\n",
    "print(\"Run Metrics: \", run_metrics, type(run_metrics))\n",
    "print(\"Run Params :\", run_params, type(run_params))\n",
    "print(\"Run Tags: \", run_tags, type(run_tags))\n",
    "print(\"Run Source name: \", run_source_name, type(run_source_name))\n",
    "print(\"Run Source Type: \", run_source_type, type(run_source_type))\n",
    "print(\"Run Git Commit: \", run_git_commit, type(run_git_commit))\n",
    "print(\"Run Description: \", run_desc, type(run_desc))\n",
    "print(\"Run Run name: \", run_run_name, type(run_run_name))\n",
    "print(\"Run Environment \", run_project_env, type(run_project_env))\n",
    "print(\"Run Meta Data :\", run_meta_data, type(run_meta_data))\n",
    "print(\"Run Run Id :\", run_run_id, type(run_run_id))\n",
    "print(\"Run Artifact Path :\", run_artifact_path, type(run_artifact_path))\n",
    "print(\"Run Creation Time in UTC :\", run_creation_time, run_creation_time, type(run_creation_time))\n",
    "print(\"Run Flavors: \", run_flavors, type(run_flavors))\n",
    "print(\"Run Python Function :\", run_py_func, type(run_py_func))\n",
    "print(\"Run Artifacts: \", run_artifacts, type(run_artifacts))\n",
    "print(\"Run Path and URI:\", run_path_and_uri, type(run_path_and_uri))\n",
    "print(\"Run Path: \", run_path, type(run_path))\n",
    "print(\"Run URI :\", run_uri, type(run_uri))\n",
    "print(\"Run Loader Module :\", run_loader_module, type(run_loader_module))\n",
    "print(\"Run Python Version :\", type(run_python_version))\n",
    "print(\"Run Code :\", run_code, type(run_code))\n",
    "print(\"Run Env :\", run_env, type(run_env))\n",
    "print(\"Run Conda Env :\", run_conda_env, type(run_conda_env))\n",
    "print(\"Run Virtual Env :\", run_virtual_env, type(run_virtual_env))\n",
    "print(\"Run UUID :\", type(run_uuid))\n",
    "print(\"Run MLflow Version :\", type(run_mlflow_version))"
   ]
  },
  {
   "cell_type": "code",
   "execution_count": 16,
   "metadata": {},
   "outputs": [
    {
     "data": {
      "text/plain": [
       "'2fc1141d586e41f1ace034398ca99942'"
      ]
     },
     "execution_count": 16,
     "metadata": {},
     "output_type": "execute_result"
    }
   ],
   "source": [
    "run_info_uuid = run_info_model.get_run_uuid\n",
    "run_info_uuid"
   ]
  }
 ],
 "metadata": {
  "kernelspec": {
   "display_name": "Python 3 (ipykernel)",
   "language": "python",
   "name": "python3"
  },
  "language_info": {
   "codemirror_mode": {
    "name": "ipython",
    "version": 3
   },
   "file_extension": ".py",
   "mimetype": "text/x-python",
   "name": "python",
   "nbconvert_exporter": "python",
   "pygments_lexer": "ipython3",
   "version": "3.8.15"
  },
  "vscode": {
   "interpreter": {
    "hash": "838a8816492eb8c4c7a62729463bd22da1037e6a04bc91ee0451db4031dba9a2"
   }
  }
 },
 "nbformat": 4,
 "nbformat_minor": 2
}
